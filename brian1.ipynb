{
 "cells": [
  {
   "cell_type": "code",
   "execution_count": 40,
   "metadata": {},
   "outputs": [],
   "source": [
    "from brian2 import *"
   ]
  },
  {
   "cell_type": "code",
   "execution_count": 41,
   "metadata": {},
   "outputs": [],
   "source": [
    "%matplotlib inline"
   ]
  },
  {
   "cell_type": "code",
   "execution_count": 5,
   "metadata": {},
   "outputs": [
    {
     "data": {
      "text/latex": [
       "$20.0\\,\\mathrm{V}$"
      ],
      "text/plain": [
       "20. * volt"
      ]
     },
     "execution_count": 5,
     "metadata": {},
     "output_type": "execute_result"
    }
   ],
   "source": [
    "20*volt"
   ]
  },
  {
   "cell_type": "code",
   "execution_count": 6,
   "metadata": {},
   "outputs": [
    {
     "data": {
      "text/latex": [
       "$1.0\\,\\mathrm{k}\\,\\mathrm{A}$"
      ],
      "text/plain": [
       "1. * kamp"
      ]
     },
     "execution_count": 6,
     "metadata": {},
     "output_type": "execute_result"
    }
   ],
   "source": [
    "1000*amp"
   ]
  },
  {
   "cell_type": "code",
   "execution_count": 7,
   "metadata": {},
   "outputs": [
    {
     "data": {
      "text/latex": [
       "$1.0\\,\\mathrm{M}\\,\\mathrm{V}$"
      ],
      "text/plain": [
       "1. * Mvolt"
      ]
     },
     "execution_count": 7,
     "metadata": {},
     "output_type": "execute_result"
    }
   ],
   "source": [
    "1e6*volt            #e6 is megavolt"
   ]
  },
  {
   "cell_type": "code",
   "execution_count": 8,
   "metadata": {},
   "outputs": [
    {
     "data": {
      "text/latex": [
       "$1.0000000000000002\\,\\mathrm{\\mu}\\,\\mathrm{A}$"
      ],
      "text/plain": [
       "1. * uamp"
      ]
     },
     "execution_count": 8,
     "metadata": {},
     "output_type": "execute_result"
    }
   ],
   "source": [
    "1000*namp"
   ]
  },
  {
   "cell_type": "code",
   "execution_count": 42,
   "metadata": {},
   "outputs": [
    {
     "data": {
      "text/latex": [
       "$50.0\\,\\mathrm{m}\\,\\mathrm{V}$"
      ],
      "text/plain": [
       "50. * mvolt"
      ]
     },
     "execution_count": 42,
     "metadata": {},
     "output_type": "execute_result"
    }
   ],
   "source": [
    "10*nA*(5*Mohm)       #combinations of units "
   ]
  },
  {
   "cell_type": "code",
   "execution_count": 43,
   "metadata": {},
   "outputs": [],
   "source": [
    "# A SIMPLE NEURON MODEL\n",
    "\n",
    "tau=10*ms\n",
    "eqs='''                   \n",
    "dv/dt=(1-v)/tau:1\n",
    "'''      \n",
    "# ''' is used for a multi-lined string\n",
    "# after : we should write the unit of the variable(in this case v) \n",
    "# and 1 means it has not unit"
   ]
  },
  {
   "cell_type": "code",
   "execution_count": 44,
   "metadata": {},
   "outputs": [],
   "source": [
    "# CREATE A NEURON\n",
    "\n",
    "G=NeuronGroup(1,eqs)\n",
    "\n",
    "#NeuronGroup is a class to create neuron groups!!\n",
    "#NeuronGroup(number of neurons, our diffrential equation)"
   ]
  },
  {
   "cell_type": "code",
   "execution_count": 45,
   "metadata": {},
   "outputs": [
    {
     "name": "stderr",
     "output_type": "stream",
     "text": [
      "INFO       No numerical integration method specified for group 'neurongroup_5', using method 'exact' (took 0.04s). [brian2.stateupdaters.base.method_choice]\n"
     ]
    }
   ],
   "source": [
    "#ACTUALLY RUN A SIMULATION\n",
    "start_scope()  #make sure any Brian objects created before,aren’t included in the next run of the simulation.\n",
    "tau = 10*ms\n",
    "eqs = '''\n",
    "dv/dt = (1-v)/tau : 1\n",
    "'''\n",
    "\n",
    "G = NeuronGroup(1, eqs)\n",
    "run(100*ms)   #runs the simulation for 100 ms\n"
   ]
  },
  {
   "cell_type": "code",
   "execution_count": 46,
   "metadata": {
    "scrolled": true
   },
   "outputs": [
    {
     "name": "stdout",
     "output_type": "stream",
     "text": [
      "Before v = 0.0\n",
      "After v = 0.9999546000702376\n"
     ]
    }
   ],
   "source": [
    "start_scope()\n",
    "tau=10*ms\n",
    "eqs = '''\n",
    "dv/dt = (1-v)/tau : 1\n",
    "'''\n",
    "\n",
    "G = NeuronGroup(1, eqs)\n",
    "print('Before v = %s' % G.v[0])   # by default variables start with the value zero\n",
    "run(100*ms)\n",
    "print('After v = %s' % G.v[0])"
   ]
  },
  {
   "cell_type": "code",
   "execution_count": 47,
   "metadata": {},
   "outputs": [
    {
     "name": "stdout",
     "output_type": "stream",
     "text": [
      "Expected value of v = 0.9999546000702375\n"
     ]
    }
   ],
   "source": [
    "print('Expected value of v = %s' % (1-exp(-100*ms/tau)))\n",
    "#last cell was for simulation and this one is the real value"
   ]
  },
  {
   "cell_type": "code",
   "execution_count": 48,
   "metadata": {},
   "outputs": [
    {
     "data": {
      "image/png": "[encoded data removed]",
      "text/plain": [
       "<Figure size 432x288 with 1 Axes>"
      ]
     },
     "metadata": {
      "needs_background": "light"
     },
     "output_type": "display_data"
    }
   ],
   "source": [
    "# VARIABLE V OVER TIME\n",
    "\n",
    "start_scope()\n",
    "\n",
    "G=NeuronGroup(1,eqs,method=\"exact\")\n",
    "M=StateMonitor(G,'v', record=True)     #to record the values of a neuron variable while the simulation runs\n",
    "#we can set record=0 to record values for neuon0.We have to specify which neurons we want to record in large simulations\n",
    "run(30*ms)\n",
    "plot(M.t/ms,M.v[0]) \n",
    "xlabel(\"time(ms)\")\n",
    "ylabel(\"voltage\");"
   ]
  },
  {
   "cell_type": "code",
   "execution_count": 49,
   "metadata": {},
   "outputs": [
    {
     "data": {
      "image/png": "[encoded data removed]",
      "text/plain": [
       "<Figure size 432x288 with 1 Axes>"
      ]
     },
     "metadata": {
      "needs_background": "light"
     },
     "output_type": "display_data"
    }
   ],
   "source": [
    "start_scope()\n",
    "\n",
    "G = NeuronGroup(1, eqs, method='exact')\n",
    "M = StateMonitor(G, 'v', record=0)\n",
    "\n",
    "run(30*ms)\n",
    "\n",
    "plot(M.t/ms, M.v[0], 'C0', label='Brian')\n",
    "plot(M.t/ms, 1-exp(-M.t/tau), 'C1--',label='Analytic')\n",
    "xlabel('Time (ms)')\n",
    "ylabel('v')\n",
    "legend(); \n",
    "#legend is with guide:))\n"
   ]
  },
  {
   "cell_type": "code",
   "execution_count": 52,
   "metadata": {},
   "outputs": [
    {
     "data": {
      "image/png": "[encoded data removed]",
      "text/plain": [
       "<Figure size 432x288 with 1 Axes>"
      ]
     },
     "metadata": {
      "needs_background": "light"
     },
     "output_type": "display_data"
    }
   ],
   "source": [
    "start_scope()\n",
    "\n",
    "tau = 10*ms\n",
    "eqs = '''\n",
    "dv/dt = (sin(2*pi*100*Hz*t)-v)/tau : 1\n",
    "'''\n",
    "G = NeuronGroup(1, eqs, method='euler') #Change to Euler method, exact integrator doesn't work here\n",
    "M = StateMonitor(G, 'v', record=0)\n",
    "G.v = 5  # initial value\n",
    "run(60*ms)\n",
    "\n",
    "plot(M.t/ms, M.v[0])\n",
    "xlabel('Time (ms)')\n",
    "ylabel('v');"
   ]
  },
  {
   "cell_type": "code",
   "execution_count": 55,
   "metadata": {},
   "outputs": [
    {
     "data": {
      "image/png": "[encoded data removed]",
      "text/plain": [
       "<Figure size 432x288 with 1 Axes>"
      ]
     },
     "metadata": {
      "needs_background": "light"
     },
     "output_type": "display_data"
    }
   ],
   "source": [
    "# ADDING SPIKING BEHAVIOUR\n",
    "start_scope()\n",
    "\n",
    "tau = 10*ms\n",
    "eqs = '''\n",
    "dv/dt = (1-v)/tau : 1\n",
    "'''\n",
    "\n",
    "G = NeuronGroup(1, eqs, threshold='v>0.8', reset='v = 0', method='exact')\n",
    "# threshold:when to start firing_reset:after firing immediately reset\n",
    "M = StateMonitor(G, 'v', record=0)\n",
    "run(50*ms)\n",
    "plot(M.t/ms, M.v[0])\n",
    "xlabel('Time (ms)')\n",
    "ylabel('v');\n",
    "#Brian has registered this event as a spike!!!"
   ]
  },
  {
   "cell_type": "code",
   "execution_count": 58,
   "metadata": {},
   "outputs": [
    {
     "name": "stdout",
     "output_type": "stream",
     "text": [
      "Spike times: [16.  32.1 48.2] ms\n"
     ]
    }
   ],
   "source": [
    "start_scope()\n",
    "\n",
    "G = NeuronGroup(1, eqs, threshold='v>0.8', reset='v = 0', method='exact')\n",
    "\n",
    "spikemon = SpikeMonitor(G)   # SHOWING SPIKES\n",
    "\n",
    "run(50*ms)\n",
    "\n",
    "print('Spike times: %s' % spikemon.t[:])\n"
   ]
  },
  {
   "cell_type": "code",
   "execution_count": 61,
   "metadata": {},
   "outputs": [
    {
     "data": {
      "image/png": "[encoded data removed]",
      "text/plain": [
       "<Figure size 432x288 with 1 Axes>"
      ]
     },
     "metadata": {
      "needs_background": "light"
     },
     "output_type": "display_data"
    }
   ],
   "source": [
    "start_scope()\n",
    "\n",
    "G = NeuronGroup(1, eqs, threshold='v>0.8', reset='v = 0', method='exact')\n",
    "\n",
    "statemon = StateMonitor(G, 'v', record=0)\n",
    "spikemon = SpikeMonitor(G)\n",
    "\n",
    "run(50*ms)\n",
    "\n",
    "plot(statemon.t/ms, statemon.v[0])\n",
    "for t in spikemon.t:\n",
    "    axvline(t/ms, ls='--', c='C1', lw=3) #c is for color  # ls='--' type of line is dashed\n",
    "xlabel('Time (ms)')\n",
    "ylabel('v');"
   ]
  },
  {
   "cell_type": "code",
   "execution_count": null,
   "metadata": {},
   "outputs": [],
   "source": []
  }
 ],
 "metadata": {
  "kernelspec": {
   "display_name": "Python 3",
   "language": "python",
   "name": "python3"
  },
  "language_info": {
   "codemirror_mode": {
    "name": "ipython",
    "version": 3
   },
   "file_extension": ".py",
   "mimetype": "text/x-python",
   "name": "python",
   "nbconvert_exporter": "python",
   "pygments_lexer": "ipython3",
   "version": "3.7.4"
  }
 },
 "nbformat": 4,
 "nbformat_minor": 2
}
